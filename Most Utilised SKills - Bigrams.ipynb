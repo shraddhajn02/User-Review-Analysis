{
 "cells": [
  {
   "cell_type": "code",
   "execution_count": 1,
   "id": "8334d0a7",
   "metadata": {},
   "outputs": [],
   "source": [
    "import pandas as pd\n",
    "import re\n",
    "from collections import Counter"
   ]
  },
  {
   "cell_type": "markdown",
   "id": "85460704",
   "metadata": {},
   "source": [
    "# Importing Data"
   ]
  },
  {
   "cell_type": "code",
   "execution_count": 30,
   "id": "4211a12f",
   "metadata": {},
   "outputs": [],
   "source": [
    "df_2019_bee = pd.read_excel('AY 2019-BBE-ESP Free Response.xlsx',sheet_name=2)  \n",
    "df_2020_bee = pd.read_excel('AY 2020-BBE-ESP Free Response.xlsx',sheet_name=2)  \n",
    "df_2021_bee = pd.read_excel('AY 2021 BBE ES&P Free Response.xlsx',sheet_name=2)  "
   ]
  },
  {
   "cell_type": "code",
   "execution_count": 31,
   "id": "22e60983",
   "metadata": {},
   "outputs": [],
   "source": [
    "# new_header = df_2019_bee.iloc[0]\n",
    "# df_2019_bee = df_2019_bee[1:] \n",
    "# df_2019_bee.columns = new_header \n",
    "\n",
    "# new_header = df_2020_bee.iloc[0]\n",
    "# df_2020_bee = df_2020_bee[1:] \n",
    "# df_2020_bee.columns = new_header \n",
    "\n",
    "# new_header = df_2021_bee.iloc[0]\n",
    "# df_2021_bee = df_2021_bee[1:] \n",
    "# df_2021_bee.columns = new_header "
   ]
  },
  {
   "cell_type": "code",
   "execution_count": 32,
   "id": "97ab0069",
   "metadata": {},
   "outputs": [],
   "source": [
    "# df_2019_bee.rename(columns={ df_2019_bee.columns[8]: \"Comments\" }, inplace = True)\n",
    "# df_2020_bee.rename(columns={ df_2020_bee.columns[8]: \"Comments\" }, inplace = True)\n",
    "# df_2021_bee.rename(columns={ df_2021_bee.columns[8]: \"Comments\" }, inplace = True)"
   ]
  },
  {
   "cell_type": "code",
   "execution_count": 33,
   "id": "188b7e3a",
   "metadata": {},
   "outputs": [],
   "source": [
    "df_2019_bee['year'] = \"2019\"\n",
    "df_2020_bee['year'] = \"2020\"\n",
    "df_2021_bee['year'] = \"2021\""
   ]
  },
  {
   "cell_type": "code",
   "execution_count": 34,
   "id": "ddf8a4a0",
   "metadata": {},
   "outputs": [],
   "source": [
    "df = pd.concat([df_2019_bee,df_2020_bee,df_2021_bee])\n",
    "df = pd.DataFrame(df)"
   ]
  },
  {
   "cell_type": "code",
   "execution_count": 35,
   "id": "60921e33",
   "metadata": {},
   "outputs": [
    {
     "data": {
      "text/html": [
       "<div>\n",
       "<style scoped>\n",
       "    .dataframe tbody tr th:only-of-type {\n",
       "        vertical-align: middle;\n",
       "    }\n",
       "\n",
       "    .dataframe tbody tr th {\n",
       "        vertical-align: top;\n",
       "    }\n",
       "\n",
       "    .dataframe thead th {\n",
       "        text-align: right;\n",
       "    }\n",
       "</style>\n",
       "<table border=\"1\" class=\"dataframe\">\n",
       "  <thead>\n",
       "    <tr style=\"text-align: right;\">\n",
       "      <th></th>\n",
       "      <th>Responder ID</th>\n",
       "      <th>Work Terms</th>\n",
       "      <th>College</th>\n",
       "      <th>Major</th>\n",
       "      <th>Conc</th>\n",
       "      <th>Class</th>\n",
       "      <th>Citizenship Status</th>\n",
       "      <th>Co-op #</th>\n",
       "      <th>What coursework did you apply most during your co-op?</th>\n",
       "      <th>year</th>\n",
       "    </tr>\n",
       "  </thead>\n",
       "  <tbody>\n",
       "    <tr>\n",
       "      <th>0</th>\n",
       "      <td>4</td>\n",
       "      <td>201935-201945</td>\n",
       "      <td>B</td>\n",
       "      <td>Accounting</td>\n",
       "      <td>5COP</td>\n",
       "      <td>SR</td>\n",
       "      <td>Domestic</td>\n",
       "      <td>Third</td>\n",
       "      <td>Acct 321 and Acct 322</td>\n",
       "      <td>2019</td>\n",
       "    </tr>\n",
       "    <tr>\n",
       "      <th>1</th>\n",
       "      <td>6</td>\n",
       "      <td>201915-201925</td>\n",
       "      <td>B</td>\n",
       "      <td>Accounting</td>\n",
       "      <td>5COP</td>\n",
       "      <td>JR</td>\n",
       "      <td>Domestic</td>\n",
       "      <td>First</td>\n",
       "      <td>MIS 200 (excel practice), and Individual Tax (...</td>\n",
       "      <td>2019</td>\n",
       "    </tr>\n",
       "  </tbody>\n",
       "</table>\n",
       "</div>"
      ],
      "text/plain": [
       "   Responder ID     Work Terms College       Major  Conc Class  \\\n",
       "0             4  201935-201945       B  Accounting  5COP    SR   \n",
       "1             6  201915-201925       B  Accounting  5COP    JR   \n",
       "\n",
       "  Citizenship Status Co-op #  \\\n",
       "0           Domestic   Third   \n",
       "1           Domestic   First   \n",
       "\n",
       "  What coursework did you apply most during your co-op?  year  \n",
       "0                              Acct 321 and Acct 322     2019  \n",
       "1  MIS 200 (excel practice), and Individual Tax (...     2019  "
      ]
     },
     "execution_count": 35,
     "metadata": {},
     "output_type": "execute_result"
    }
   ],
   "source": [
    "df.head(2)"
   ]
  },
  {
   "cell_type": "markdown",
   "id": "271f8bb6",
   "metadata": {},
   "source": [
    "# Pre Processing"
   ]
  },
  {
   "cell_type": "code",
   "execution_count": 36,
   "id": "dffe8719",
   "metadata": {},
   "outputs": [],
   "source": [
    "df['clean text'] = df['What coursework did you apply most during your co-op?'].str.lower()"
   ]
  },
  {
   "cell_type": "code",
   "execution_count": 37,
   "id": "6e3d5e83",
   "metadata": {},
   "outputs": [
    {
     "data": {
      "text/html": [
       "<div>\n",
       "<style scoped>\n",
       "    .dataframe tbody tr th:only-of-type {\n",
       "        vertical-align: middle;\n",
       "    }\n",
       "\n",
       "    .dataframe tbody tr th {\n",
       "        vertical-align: top;\n",
       "    }\n",
       "\n",
       "    .dataframe thead th {\n",
       "        text-align: right;\n",
       "    }\n",
       "</style>\n",
       "<table border=\"1\" class=\"dataframe\">\n",
       "  <thead>\n",
       "    <tr style=\"text-align: right;\">\n",
       "      <th></th>\n",
       "      <th>Responder ID</th>\n",
       "      <th>Work Terms</th>\n",
       "      <th>College</th>\n",
       "      <th>Major</th>\n",
       "      <th>Conc</th>\n",
       "      <th>Class</th>\n",
       "      <th>Citizenship Status</th>\n",
       "      <th>Co-op #</th>\n",
       "      <th>What coursework did you apply most during your co-op?</th>\n",
       "      <th>year</th>\n",
       "      <th>clean text</th>\n",
       "    </tr>\n",
       "  </thead>\n",
       "  <tbody>\n",
       "    <tr>\n",
       "      <th>0</th>\n",
       "      <td>4</td>\n",
       "      <td>201935-201945</td>\n",
       "      <td>B</td>\n",
       "      <td>Accounting</td>\n",
       "      <td>5COP</td>\n",
       "      <td>SR</td>\n",
       "      <td>Domestic</td>\n",
       "      <td>Third</td>\n",
       "      <td>Acct 321 and Acct 322</td>\n",
       "      <td>2019</td>\n",
       "      <td>acct 321 and acct 322</td>\n",
       "    </tr>\n",
       "    <tr>\n",
       "      <th>1</th>\n",
       "      <td>6</td>\n",
       "      <td>201915-201925</td>\n",
       "      <td>B</td>\n",
       "      <td>Accounting</td>\n",
       "      <td>5COP</td>\n",
       "      <td>JR</td>\n",
       "      <td>Domestic</td>\n",
       "      <td>First</td>\n",
       "      <td>MIS 200 (excel practice), and Individual Tax (...</td>\n",
       "      <td>2019</td>\n",
       "      <td>mis 200 (excel practice), and individual tax (...</td>\n",
       "    </tr>\n",
       "  </tbody>\n",
       "</table>\n",
       "</div>"
      ],
      "text/plain": [
       "   Responder ID     Work Terms College       Major  Conc Class  \\\n",
       "0             4  201935-201945       B  Accounting  5COP    SR   \n",
       "1             6  201915-201925       B  Accounting  5COP    JR   \n",
       "\n",
       "  Citizenship Status Co-op #  \\\n",
       "0           Domestic   Third   \n",
       "1           Domestic   First   \n",
       "\n",
       "  What coursework did you apply most during your co-op?  year  \\\n",
       "0                              Acct 321 and Acct 322     2019   \n",
       "1  MIS 200 (excel practice), and Individual Tax (...     2019   \n",
       "\n",
       "                                          clean text  \n",
       "0                              acct 321 and acct 322  \n",
       "1  mis 200 (excel practice), and individual tax (...  "
      ]
     },
     "execution_count": 37,
     "metadata": {},
     "output_type": "execute_result"
    }
   ],
   "source": [
    "df.head(2)"
   ]
  },
  {
   "cell_type": "markdown",
   "id": "3050162f",
   "metadata": {},
   "source": [
    "# Removing Punctuations"
   ]
  },
  {
   "cell_type": "code",
   "execution_count": 38,
   "id": "c634c0d7",
   "metadata": {},
   "outputs": [],
   "source": [
    "import string"
   ]
  },
  {
   "cell_type": "code",
   "execution_count": 39,
   "id": "cd445df3",
   "metadata": {},
   "outputs": [
    {
     "data": {
      "text/plain": [
       "'!\"#$%&\\'()*+,-./:;<=>?@[\\\\]^_`{|}~'"
      ]
     },
     "execution_count": 39,
     "metadata": {},
     "output_type": "execute_result"
    }
   ],
   "source": [
    "string.punctuation"
   ]
  },
  {
   "cell_type": "code",
   "execution_count": 40,
   "id": "7c725dc7",
   "metadata": {},
   "outputs": [],
   "source": [
    "def remove_punctuations(text):\n",
    "    punctuations = string.punctuation\n",
    "    return text.translate(str.maketrans('','',punctuations)) "
   ]
  },
  {
   "cell_type": "code",
   "execution_count": 41,
   "id": "500cd684",
   "metadata": {},
   "outputs": [
    {
     "data": {
      "text/html": [
       "<div>\n",
       "<style scoped>\n",
       "    .dataframe tbody tr th:only-of-type {\n",
       "        vertical-align: middle;\n",
       "    }\n",
       "\n",
       "    .dataframe tbody tr th {\n",
       "        vertical-align: top;\n",
       "    }\n",
       "\n",
       "    .dataframe thead th {\n",
       "        text-align: right;\n",
       "    }\n",
       "</style>\n",
       "<table border=\"1\" class=\"dataframe\">\n",
       "  <thead>\n",
       "    <tr style=\"text-align: right;\">\n",
       "      <th></th>\n",
       "      <th>Responder ID</th>\n",
       "      <th>Work Terms</th>\n",
       "      <th>College</th>\n",
       "      <th>Major</th>\n",
       "      <th>Conc</th>\n",
       "      <th>Class</th>\n",
       "      <th>Citizenship Status</th>\n",
       "      <th>Co-op #</th>\n",
       "      <th>What coursework did you apply most during your co-op?</th>\n",
       "      <th>year</th>\n",
       "      <th>clean text</th>\n",
       "    </tr>\n",
       "  </thead>\n",
       "  <tbody>\n",
       "    <tr>\n",
       "      <th>0</th>\n",
       "      <td>4</td>\n",
       "      <td>201935-201945</td>\n",
       "      <td>B</td>\n",
       "      <td>Accounting</td>\n",
       "      <td>5COP</td>\n",
       "      <td>SR</td>\n",
       "      <td>Domestic</td>\n",
       "      <td>Third</td>\n",
       "      <td>Acct 321 and Acct 322</td>\n",
       "      <td>2019</td>\n",
       "      <td>acct 321 and acct 322</td>\n",
       "    </tr>\n",
       "    <tr>\n",
       "      <th>1</th>\n",
       "      <td>6</td>\n",
       "      <td>201915-201925</td>\n",
       "      <td>B</td>\n",
       "      <td>Accounting</td>\n",
       "      <td>5COP</td>\n",
       "      <td>JR</td>\n",
       "      <td>Domestic</td>\n",
       "      <td>First</td>\n",
       "      <td>MIS 200 (excel practice), and Individual Tax (...</td>\n",
       "      <td>2019</td>\n",
       "      <td>mis 200 excel practice and individual tax even...</td>\n",
       "    </tr>\n",
       "  </tbody>\n",
       "</table>\n",
       "</div>"
      ],
      "text/plain": [
       "   Responder ID     Work Terms College       Major  Conc Class  \\\n",
       "0             4  201935-201945       B  Accounting  5COP    SR   \n",
       "1             6  201915-201925       B  Accounting  5COP    JR   \n",
       "\n",
       "  Citizenship Status Co-op #  \\\n",
       "0           Domestic   Third   \n",
       "1           Domestic   First   \n",
       "\n",
       "  What coursework did you apply most during your co-op?  year  \\\n",
       "0                              Acct 321 and Acct 322     2019   \n",
       "1  MIS 200 (excel practice), and Individual Tax (...     2019   \n",
       "\n",
       "                                          clean text  \n",
       "0                              acct 321 and acct 322  \n",
       "1  mis 200 excel practice and individual tax even...  "
      ]
     },
     "execution_count": 41,
     "metadata": {},
     "output_type": "execute_result"
    }
   ],
   "source": [
    "df = df.fillna(\" \")\n",
    "df['clean text'] = df['clean text'].apply(lambda x : remove_punctuations(x))\n",
    "df.head(2)"
   ]
  },
  {
   "cell_type": "markdown",
   "id": "e8ad3c92",
   "metadata": {},
   "source": [
    "# Removal of Stopwords"
   ]
  },
  {
   "cell_type": "code",
   "execution_count": 42,
   "id": "6dbde150",
   "metadata": {},
   "outputs": [
    {
     "name": "stderr",
     "output_type": "stream",
     "text": [
      "[nltk_data] Downloading package stopwords to\n",
      "[nltk_data]     /Users/ananya/nltk_data...\n",
      "[nltk_data]   Package stopwords is already up-to-date!\n"
     ]
    },
    {
     "data": {
      "text/plain": [
       "\"i, me, my, myself, we, our, ours, ourselves, you, you're, you've, you'll, you'd, your, yours, yourself, yourselves, he, him, his, himself, she, she's, her, hers, herself, it, it's, its, itself, they, them, their, theirs, themselves, what, which, who, whom, this, that, that'll, these, those, am, is, are, was, were, be, been, being, have, has, had, having, do, does, did, doing, a, an, the, and, but, if, or, because, as, until, while, of, at, by, for, with, about, against, between, into, through, during, before, after, above, below, to, from, up, down, in, out, on, off, over, under, again, further, then, once, here, there, when, where, why, how, all, any, both, each, few, more, most, other, some, such, no, nor, not, only, own, same, so, than, too, very, s, t, can, will, just, don, don't, should, should've, now, d, ll, m, o, re, ve, y, ain, aren, aren't, couldn, couldn't, didn, didn't, doesn, doesn't, hadn, hadn't, hasn, hasn't, haven, haven't, isn, isn't, ma, mightn, mightn't, mustn, mustn't, needn, needn't, shan, shan't, shouldn, shouldn't, wasn, wasn't, weren, weren't, won, won't, wouldn, wouldn't\""
      ]
     },
     "execution_count": 42,
     "metadata": {},
     "output_type": "execute_result"
    }
   ],
   "source": [
    "import nltk\n",
    "nltk.download('stopwords')\n",
    "from nltk.corpus import stopwords\n",
    "\", \".join(stopwords.words('english'))"
   ]
  },
  {
   "cell_type": "code",
   "execution_count": 43,
   "id": "9dc4d43d",
   "metadata": {},
   "outputs": [],
   "source": [
    "STOPWORDS = set(stopwords.words('english'))"
   ]
  },
  {
   "cell_type": "code",
   "execution_count": 44,
   "id": "1628f763",
   "metadata": {},
   "outputs": [],
   "source": [
    "def remove_stopwords(text):\n",
    "    return \" \".join(word for word in text.split() if word not in STOPWORDS)"
   ]
  },
  {
   "cell_type": "code",
   "execution_count": 45,
   "id": "087fa1c7",
   "metadata": {},
   "outputs": [
    {
     "data": {
      "text/html": [
       "<div>\n",
       "<style scoped>\n",
       "    .dataframe tbody tr th:only-of-type {\n",
       "        vertical-align: middle;\n",
       "    }\n",
       "\n",
       "    .dataframe tbody tr th {\n",
       "        vertical-align: top;\n",
       "    }\n",
       "\n",
       "    .dataframe thead th {\n",
       "        text-align: right;\n",
       "    }\n",
       "</style>\n",
       "<table border=\"1\" class=\"dataframe\">\n",
       "  <thead>\n",
       "    <tr style=\"text-align: right;\">\n",
       "      <th></th>\n",
       "      <th>Responder ID</th>\n",
       "      <th>Work Terms</th>\n",
       "      <th>College</th>\n",
       "      <th>Major</th>\n",
       "      <th>Conc</th>\n",
       "      <th>Class</th>\n",
       "      <th>Citizenship Status</th>\n",
       "      <th>Co-op #</th>\n",
       "      <th>What coursework did you apply most during your co-op?</th>\n",
       "      <th>year</th>\n",
       "      <th>clean text</th>\n",
       "    </tr>\n",
       "  </thead>\n",
       "  <tbody>\n",
       "    <tr>\n",
       "      <th>0</th>\n",
       "      <td>4</td>\n",
       "      <td>201935-201945</td>\n",
       "      <td>B</td>\n",
       "      <td>Accounting</td>\n",
       "      <td>5COP</td>\n",
       "      <td>SR</td>\n",
       "      <td>Domestic</td>\n",
       "      <td>Third</td>\n",
       "      <td>Acct 321 and Acct 322</td>\n",
       "      <td>2019</td>\n",
       "      <td>acct 321 acct 322</td>\n",
       "    </tr>\n",
       "    <tr>\n",
       "      <th>1</th>\n",
       "      <td>6</td>\n",
       "      <td>201915-201925</td>\n",
       "      <td>B</td>\n",
       "      <td>Accounting</td>\n",
       "      <td>5COP</td>\n",
       "      <td>JR</td>\n",
       "      <td>Domestic</td>\n",
       "      <td>First</td>\n",
       "      <td>MIS 200 (excel practice), and Individual Tax (...</td>\n",
       "      <td>2019</td>\n",
       "      <td>mis 200 excel practice individual tax even tho...</td>\n",
       "    </tr>\n",
       "  </tbody>\n",
       "</table>\n",
       "</div>"
      ],
      "text/plain": [
       "   Responder ID     Work Terms College       Major  Conc Class  \\\n",
       "0             4  201935-201945       B  Accounting  5COP    SR   \n",
       "1             6  201915-201925       B  Accounting  5COP    JR   \n",
       "\n",
       "  Citizenship Status Co-op #  \\\n",
       "0           Domestic   Third   \n",
       "1           Domestic   First   \n",
       "\n",
       "  What coursework did you apply most during your co-op?  year  \\\n",
       "0                              Acct 321 and Acct 322     2019   \n",
       "1  MIS 200 (excel practice), and Individual Tax (...     2019   \n",
       "\n",
       "                                          clean text  \n",
       "0                                  acct 321 acct 322  \n",
       "1  mis 200 excel practice individual tax even tho...  "
      ]
     },
     "execution_count": 45,
     "metadata": {},
     "output_type": "execute_result"
    }
   ],
   "source": [
    "df['clean text'] = df['clean text'].apply(lambda x : remove_stopwords(x))\n",
    "df.head(2)"
   ]
  },
  {
   "cell_type": "markdown",
   "id": "daefb391",
   "metadata": {},
   "source": [
    "# Removal of Special Characters & Numbers"
   ]
  },
  {
   "cell_type": "code",
   "execution_count": 46,
   "id": "75cbaa78",
   "metadata": {},
   "outputs": [],
   "source": [
    "import re\n",
    "def remove_spl_chars(text):\n",
    "    text = re.sub('[^a-zA-Z]',\" \",text)\n",
    "    text = re.sub('\\s+',' ',text)\n",
    "    return text"
   ]
  },
  {
   "cell_type": "code",
   "execution_count": 47,
   "id": "884f9060",
   "metadata": {},
   "outputs": [
    {
     "data": {
      "text/html": [
       "<div>\n",
       "<style scoped>\n",
       "    .dataframe tbody tr th:only-of-type {\n",
       "        vertical-align: middle;\n",
       "    }\n",
       "\n",
       "    .dataframe tbody tr th {\n",
       "        vertical-align: top;\n",
       "    }\n",
       "\n",
       "    .dataframe thead th {\n",
       "        text-align: right;\n",
       "    }\n",
       "</style>\n",
       "<table border=\"1\" class=\"dataframe\">\n",
       "  <thead>\n",
       "    <tr style=\"text-align: right;\">\n",
       "      <th></th>\n",
       "      <th>Responder ID</th>\n",
       "      <th>Work Terms</th>\n",
       "      <th>College</th>\n",
       "      <th>Major</th>\n",
       "      <th>Conc</th>\n",
       "      <th>Class</th>\n",
       "      <th>Citizenship Status</th>\n",
       "      <th>Co-op #</th>\n",
       "      <th>What coursework did you apply most during your co-op?</th>\n",
       "      <th>year</th>\n",
       "      <th>clean text</th>\n",
       "    </tr>\n",
       "  </thead>\n",
       "  <tbody>\n",
       "    <tr>\n",
       "      <th>0</th>\n",
       "      <td>4</td>\n",
       "      <td>201935-201945</td>\n",
       "      <td>B</td>\n",
       "      <td>Accounting</td>\n",
       "      <td>5COP</td>\n",
       "      <td>SR</td>\n",
       "      <td>Domestic</td>\n",
       "      <td>Third</td>\n",
       "      <td>Acct 321 and Acct 322</td>\n",
       "      <td>2019</td>\n",
       "      <td>acct acct</td>\n",
       "    </tr>\n",
       "    <tr>\n",
       "      <th>1</th>\n",
       "      <td>6</td>\n",
       "      <td>201915-201925</td>\n",
       "      <td>B</td>\n",
       "      <td>Accounting</td>\n",
       "      <td>5COP</td>\n",
       "      <td>JR</td>\n",
       "      <td>Domestic</td>\n",
       "      <td>First</td>\n",
       "      <td>MIS 200 (excel practice), and Individual Tax (...</td>\n",
       "      <td>2019</td>\n",
       "      <td>mis excel practice individual tax even though ...</td>\n",
       "    </tr>\n",
       "  </tbody>\n",
       "</table>\n",
       "</div>"
      ],
      "text/plain": [
       "   Responder ID     Work Terms College       Major  Conc Class  \\\n",
       "0             4  201935-201945       B  Accounting  5COP    SR   \n",
       "1             6  201915-201925       B  Accounting  5COP    JR   \n",
       "\n",
       "  Citizenship Status Co-op #  \\\n",
       "0           Domestic   Third   \n",
       "1           Domestic   First   \n",
       "\n",
       "  What coursework did you apply most during your co-op?  year  \\\n",
       "0                              Acct 321 and Acct 322     2019   \n",
       "1  MIS 200 (excel practice), and Individual Tax (...     2019   \n",
       "\n",
       "                                          clean text  \n",
       "0                                         acct acct   \n",
       "1  mis excel practice individual tax even though ...  "
      ]
     },
     "execution_count": 47,
     "metadata": {},
     "output_type": "execute_result"
    }
   ],
   "source": [
    "df['clean text'] = df['clean text'].apply(lambda x : remove_spl_chars(x))\n",
    "df.head(2)"
   ]
  },
  {
   "cell_type": "code",
   "execution_count": 48,
   "id": "2f68b6d3",
   "metadata": {},
   "outputs": [
    {
     "data": {
      "text/plain": [
       "Index(['Responder ID', 'Work Terms', 'College', 'Major', 'Conc', 'Class',\n",
       "       'Citizenship Status', 'Co-op #',\n",
       "       'What coursework did you apply most during your co-op?', 'year',\n",
       "       'clean text'],\n",
       "      dtype='object')"
      ]
     },
     "execution_count": 48,
     "metadata": {},
     "output_type": "execute_result"
    }
   ],
   "source": [
    "# df = df.loc[df['year']==2019]\n",
    "df.columns"
   ]
  },
  {
   "cell_type": "markdown",
   "id": "3dac8484",
   "metadata": {},
   "source": [
    "# Counting by grouping"
   ]
  },
  {
   "cell_type": "code",
   "execution_count": 49,
   "id": "5a562d24",
   "metadata": {},
   "outputs": [],
   "source": [
    "df['words']=df['clean text'].str.split().explode(\"clean text\")"
   ]
  },
  {
   "cell_type": "code",
   "execution_count": 50,
   "id": "d9020632",
   "metadata": {},
   "outputs": [],
   "source": [
    "df1 = df.explode('words').groupby(['year','Major'])['words'].value_counts().reset_index(name='Frequency')"
   ]
  },
  {
   "cell_type": "code",
   "execution_count": 52,
   "id": "06bf0b0b",
   "metadata": {},
   "outputs": [
    {
     "data": {
      "text/html": [
       "<div>\n",
       "<style scoped>\n",
       "    .dataframe tbody tr th:only-of-type {\n",
       "        vertical-align: middle;\n",
       "    }\n",
       "\n",
       "    .dataframe tbody tr th {\n",
       "        vertical-align: top;\n",
       "    }\n",
       "\n",
       "    .dataframe thead th {\n",
       "        text-align: right;\n",
       "    }\n",
       "</style>\n",
       "<table border=\"1\" class=\"dataframe\">\n",
       "  <thead>\n",
       "    <tr style=\"text-align: right;\">\n",
       "      <th></th>\n",
       "      <th>year</th>\n",
       "      <th>Major</th>\n",
       "      <th>words</th>\n",
       "      <th>Frequency</th>\n",
       "    </tr>\n",
       "  </thead>\n",
       "  <tbody>\n",
       "    <tr>\n",
       "      <th>255</th>\n",
       "      <td>2019</td>\n",
       "      <td>Finance</td>\n",
       "      <td>accounting</td>\n",
       "      <td>12</td>\n",
       "    </tr>\n",
       "    <tr>\n",
       "      <th>256</th>\n",
       "      <td>2019</td>\n",
       "      <td>Finance</td>\n",
       "      <td>excel</td>\n",
       "      <td>10</td>\n",
       "    </tr>\n",
       "    <tr>\n",
       "      <th>257</th>\n",
       "      <td>2019</td>\n",
       "      <td>Finance</td>\n",
       "      <td>finance</td>\n",
       "      <td>10</td>\n",
       "    </tr>\n",
       "    <tr>\n",
       "      <th>258</th>\n",
       "      <td>2019</td>\n",
       "      <td>Finance</td>\n",
       "      <td>business</td>\n",
       "      <td>9</td>\n",
       "    </tr>\n",
       "    <tr>\n",
       "      <th>259</th>\n",
       "      <td>2019</td>\n",
       "      <td>Finance</td>\n",
       "      <td>mis</td>\n",
       "      <td>9</td>\n",
       "    </tr>\n",
       "    <tr>\n",
       "      <th>260</th>\n",
       "      <td>2019</td>\n",
       "      <td>Finance</td>\n",
       "      <td>applied</td>\n",
       "      <td>8</td>\n",
       "    </tr>\n",
       "    <tr>\n",
       "      <th>261</th>\n",
       "      <td>2019</td>\n",
       "      <td>Finance</td>\n",
       "      <td>coursework</td>\n",
       "      <td>8</td>\n",
       "    </tr>\n",
       "    <tr>\n",
       "      <th>659</th>\n",
       "      <td>2019</td>\n",
       "      <td>Marketing</td>\n",
       "      <td>courses</td>\n",
       "      <td>12</td>\n",
       "    </tr>\n",
       "    <tr>\n",
       "      <th>660</th>\n",
       "      <td>2019</td>\n",
       "      <td>Marketing</td>\n",
       "      <td>excel</td>\n",
       "      <td>9</td>\n",
       "    </tr>\n",
       "    <tr>\n",
       "      <th>661</th>\n",
       "      <td>2019</td>\n",
       "      <td>Marketing</td>\n",
       "      <td>applied</td>\n",
       "      <td>8</td>\n",
       "    </tr>\n",
       "    <tr>\n",
       "      <th>662</th>\n",
       "      <td>2019</td>\n",
       "      <td>Marketing</td>\n",
       "      <td>work</td>\n",
       "      <td>8</td>\n",
       "    </tr>\n",
       "    <tr>\n",
       "      <th>1203</th>\n",
       "      <td>2020</td>\n",
       "      <td>FIN</td>\n",
       "      <td>applied</td>\n",
       "      <td>12</td>\n",
       "    </tr>\n",
       "    <tr>\n",
       "      <th>1204</th>\n",
       "      <td>2020</td>\n",
       "      <td>FIN</td>\n",
       "      <td>business</td>\n",
       "      <td>11</td>\n",
       "    </tr>\n",
       "    <tr>\n",
       "      <th>1205</th>\n",
       "      <td>2020</td>\n",
       "      <td>FIN</td>\n",
       "      <td>coop</td>\n",
       "      <td>11</td>\n",
       "    </tr>\n",
       "    <tr>\n",
       "      <th>1206</th>\n",
       "      <td>2020</td>\n",
       "      <td>FIN</td>\n",
       "      <td>coursework</td>\n",
       "      <td>11</td>\n",
       "    </tr>\n",
       "    <tr>\n",
       "      <th>1207</th>\n",
       "      <td>2020</td>\n",
       "      <td>FIN</td>\n",
       "      <td>classes</td>\n",
       "      <td>10</td>\n",
       "    </tr>\n",
       "    <tr>\n",
       "      <th>1208</th>\n",
       "      <td>2020</td>\n",
       "      <td>FIN</td>\n",
       "      <td>work</td>\n",
       "      <td>9</td>\n",
       "    </tr>\n",
       "    <tr>\n",
       "      <th>1209</th>\n",
       "      <td>2020</td>\n",
       "      <td>FIN</td>\n",
       "      <td>courses</td>\n",
       "      <td>8</td>\n",
       "    </tr>\n",
       "    <tr>\n",
       "      <th>1210</th>\n",
       "      <td>2020</td>\n",
       "      <td>FIN</td>\n",
       "      <td>finance</td>\n",
       "      <td>8</td>\n",
       "    </tr>\n",
       "    <tr>\n",
       "      <th>1211</th>\n",
       "      <td>2020</td>\n",
       "      <td>FIN</td>\n",
       "      <td>helped</td>\n",
       "      <td>8</td>\n",
       "    </tr>\n",
       "    <tr>\n",
       "      <th>1212</th>\n",
       "      <td>2020</td>\n",
       "      <td>FIN</td>\n",
       "      <td>management</td>\n",
       "      <td>8</td>\n",
       "    </tr>\n",
       "    <tr>\n",
       "      <th>1629</th>\n",
       "      <td>2020</td>\n",
       "      <td>MKTG</td>\n",
       "      <td>applied</td>\n",
       "      <td>8</td>\n",
       "    </tr>\n",
       "    <tr>\n",
       "      <th>1630</th>\n",
       "      <td>2020</td>\n",
       "      <td>MKTG</td>\n",
       "      <td>finance</td>\n",
       "      <td>8</td>\n",
       "    </tr>\n",
       "    <tr>\n",
       "      <th>2150</th>\n",
       "      <td>2021</td>\n",
       "      <td>FIN</td>\n",
       "      <td>classes</td>\n",
       "      <td>14</td>\n",
       "    </tr>\n",
       "    <tr>\n",
       "      <th>2151</th>\n",
       "      <td>2021</td>\n",
       "      <td>FIN</td>\n",
       "      <td>applied</td>\n",
       "      <td>12</td>\n",
       "    </tr>\n",
       "    <tr>\n",
       "      <th>2152</th>\n",
       "      <td>2021</td>\n",
       "      <td>FIN</td>\n",
       "      <td>excel</td>\n",
       "      <td>11</td>\n",
       "    </tr>\n",
       "    <tr>\n",
       "      <th>2153</th>\n",
       "      <td>2021</td>\n",
       "      <td>FIN</td>\n",
       "      <td>business</td>\n",
       "      <td>10</td>\n",
       "    </tr>\n",
       "    <tr>\n",
       "      <th>2154</th>\n",
       "      <td>2021</td>\n",
       "      <td>FIN</td>\n",
       "      <td>coop</td>\n",
       "      <td>9</td>\n",
       "    </tr>\n",
       "    <tr>\n",
       "      <th>2155</th>\n",
       "      <td>2021</td>\n",
       "      <td>FIN</td>\n",
       "      <td>accounting</td>\n",
       "      <td>8</td>\n",
       "    </tr>\n",
       "    <tr>\n",
       "      <th>2156</th>\n",
       "      <td>2021</td>\n",
       "      <td>FIN</td>\n",
       "      <td>course</td>\n",
       "      <td>8</td>\n",
       "    </tr>\n",
       "    <tr>\n",
       "      <th>2157</th>\n",
       "      <td>2021</td>\n",
       "      <td>FIN</td>\n",
       "      <td>finance</td>\n",
       "      <td>8</td>\n",
       "    </tr>\n",
       "    <tr>\n",
       "      <th>2581</th>\n",
       "      <td>2021</td>\n",
       "      <td>MKTG</td>\n",
       "      <td>business</td>\n",
       "      <td>10</td>\n",
       "    </tr>\n",
       "    <tr>\n",
       "      <th>2582</th>\n",
       "      <td>2021</td>\n",
       "      <td>MKTG</td>\n",
       "      <td>courses</td>\n",
       "      <td>8</td>\n",
       "    </tr>\n",
       "    <tr>\n",
       "      <th>2583</th>\n",
       "      <td>2021</td>\n",
       "      <td>MKTG</td>\n",
       "      <td>coursework</td>\n",
       "      <td>8</td>\n",
       "    </tr>\n",
       "  </tbody>\n",
       "</table>\n",
       "</div>"
      ],
      "text/plain": [
       "      year      Major       words  Frequency\n",
       "255   2019    Finance  accounting         12\n",
       "256   2019    Finance       excel         10\n",
       "257   2019    Finance     finance         10\n",
       "258   2019    Finance    business          9\n",
       "259   2019    Finance         mis          9\n",
       "260   2019    Finance     applied          8\n",
       "261   2019    Finance  coursework          8\n",
       "659   2019  Marketing     courses         12\n",
       "660   2019  Marketing       excel          9\n",
       "661   2019  Marketing     applied          8\n",
       "662   2019  Marketing        work          8\n",
       "1203  2020        FIN     applied         12\n",
       "1204  2020        FIN    business         11\n",
       "1205  2020        FIN        coop         11\n",
       "1206  2020        FIN  coursework         11\n",
       "1207  2020        FIN     classes         10\n",
       "1208  2020        FIN        work          9\n",
       "1209  2020        FIN     courses          8\n",
       "1210  2020        FIN     finance          8\n",
       "1211  2020        FIN      helped          8\n",
       "1212  2020        FIN  management          8\n",
       "1629  2020       MKTG     applied          8\n",
       "1630  2020       MKTG     finance          8\n",
       "2150  2021        FIN     classes         14\n",
       "2151  2021        FIN     applied         12\n",
       "2152  2021        FIN       excel         11\n",
       "2153  2021        FIN    business         10\n",
       "2154  2021        FIN        coop          9\n",
       "2155  2021        FIN  accounting          8\n",
       "2156  2021        FIN      course          8\n",
       "2157  2021        FIN     finance          8\n",
       "2581  2021       MKTG    business         10\n",
       "2582  2021       MKTG     courses          8\n",
       "2583  2021       MKTG  coursework          8"
      ]
     },
     "execution_count": 52,
     "metadata": {},
     "output_type": "execute_result"
    }
   ],
   "source": [
    "df1 = pd.DataFrame(df1)\n",
    "df2 = df1.loc[df1['Frequency']>=8]\n",
    "df2"
   ]
  },
  {
   "cell_type": "markdown",
   "id": "8638957a",
   "metadata": {},
   "source": [
    "# Counting all words"
   ]
  },
  {
   "cell_type": "code",
   "execution_count": null,
   "id": "89c8c6a7",
   "metadata": {},
   "outputs": [],
   "source": [
    "all_words = ' '.join(df['clean text']).split()\n",
    "word_frequency = Counter(all_words)"
   ]
  },
  {
   "cell_type": "code",
   "execution_count": null,
   "id": "2b2011d4",
   "metadata": {},
   "outputs": [],
   "source": [
    "type(word_frequency)"
   ]
  },
  {
   "cell_type": "code",
   "execution_count": null,
   "id": "14a97953",
   "metadata": {},
   "outputs": [],
   "source": [
    "word_frequency = pd.DataFrame(word_frequency,  columns=['Word', 'Frequency'])\n",
    "word_frequency"
   ]
  },
  {
   "cell_type": "code",
   "execution_count": null,
   "id": "29e530b8",
   "metadata": {},
   "outputs": [],
   "source": [
    "all_words = word_freq.size()\n",
    "all_words"
   ]
  },
  {
   "cell_type": "code",
   "execution_count": null,
   "id": "a8b3127a",
   "metadata": {},
   "outputs": [],
   "source": [
    "df = pd.DataFrame.from_dict(word_frequency, orient='index', columns=['Frequency']).reset_index()\n",
    "df = df.rename(columns={'index': 'Word'})"
   ]
  },
  {
   "cell_type": "code",
   "execution_count": null,
   "id": "7dd3852f",
   "metadata": {},
   "outputs": [],
   "source": [
    "df.sort_values(by='Frequency',ascending=False).head(20)"
   ]
  },
  {
   "cell_type": "code",
   "execution_count": null,
   "id": "7a7b7df8",
   "metadata": {},
   "outputs": [],
   "source": []
  },
  {
   "cell_type": "code",
   "execution_count": null,
   "id": "3af94206",
   "metadata": {},
   "outputs": [],
   "source": []
  },
  {
   "cell_type": "code",
   "execution_count": null,
   "id": "2ba03677",
   "metadata": {},
   "outputs": [],
   "source": []
  },
  {
   "cell_type": "code",
   "execution_count": null,
   "id": "edc5b5d7",
   "metadata": {},
   "outputs": [],
   "source": []
  },
  {
   "cell_type": "code",
   "execution_count": null,
   "id": "e7fe7a1b",
   "metadata": {},
   "outputs": [],
   "source": []
  }
 ],
 "metadata": {
  "kernelspec": {
   "display_name": "Python 3 (ipykernel)",
   "language": "python",
   "name": "python3"
  },
  "language_info": {
   "codemirror_mode": {
    "name": "ipython",
    "version": 3
   },
   "file_extension": ".py",
   "mimetype": "text/x-python",
   "name": "python",
   "nbconvert_exporter": "python",
   "pygments_lexer": "ipython3",
   "version": "3.11.4"
  }
 },
 "nbformat": 4,
 "nbformat_minor": 5
}
