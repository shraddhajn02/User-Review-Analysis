{
 "cells": [
  {
   "cell_type": "code",
   "execution_count": 4,
   "id": "c8a0df9c",
   "metadata": {},
   "outputs": [],
   "source": [
    "import pandas as pd"
   ]
  },
  {
   "cell_type": "code",
   "execution_count": 14,
   "id": "bf087bdd",
   "metadata": {},
   "outputs": [],
   "source": [
    "df_2019_s = pd.read_excel('AY 2019-BBE-ESP Free Response.xlsx',sheet_name=1, skiprows=1, index_col=0)\n",
    "df_2020_s = pd.read_excel('AY 2020-BBE-ESP Free Response.xlsx',sheet_name=1, skiprows=1, index_col=0) \n",
    "df_2021_s = pd.read_excel('AY 2021 BBE ES&P Free Response.xlsx',sheet_name=1, skiprows=1, index_col=0) "
   ]
  },
  {
   "cell_type": "code",
   "execution_count": 15,
   "id": "8edf4aee",
   "metadata": {},
   "outputs": [],
   "source": [
    "df_2019_s['year'] = \"2019\"\n",
    "df_2020_s['year'] = \"2020\"\n",
    "df_2021_s['year'] = \"2021\""
   ]
  },
  {
   "cell_type": "code",
   "execution_count": 16,
   "id": "4e50237b",
   "metadata": {},
   "outputs": [],
   "source": [
    "df = pd.concat([df_2019_s,df_2020_s,df_2021_s])\n",
    "df = pd.DataFrame(df)"
   ]
  },
  {
   "cell_type": "code",
   "execution_count": 17,
   "id": "b5cb9eec",
   "metadata": {},
   "outputs": [
    {
     "data": {
      "text/html": [
       "<div>\n",
       "<style scoped>\n",
       "    .dataframe tbody tr th:only-of-type {\n",
       "        vertical-align: middle;\n",
       "    }\n",
       "\n",
       "    .dataframe tbody tr th {\n",
       "        vertical-align: top;\n",
       "    }\n",
       "\n",
       "    .dataframe thead th {\n",
       "        text-align: right;\n",
       "    }\n",
       "</style>\n",
       "<table border=\"1\" class=\"dataframe\">\n",
       "  <thead>\n",
       "    <tr style=\"text-align: right;\">\n",
       "      <th></th>\n",
       "      <th>Work Terms</th>\n",
       "      <th>College</th>\n",
       "      <th>Major</th>\n",
       "      <th>Conc</th>\n",
       "      <th>Class</th>\n",
       "      <th>Citizenship Status</th>\n",
       "      <th>Coop #</th>\n",
       "      <th>Prepared?</th>\n",
       "      <th>Do you have any suggestions on how to improve your classroom activities to prepare you for your    career?</th>\n",
       "      <th>How did your classroom activities prepare you for co-op? If they didn’t, how were you prepared for co-op?</th>\n",
       "      <th>year</th>\n",
       "      <th>Terms</th>\n",
       "      <th>Coll</th>\n",
       "      <th>Class BOT</th>\n",
       "      <th>Citizenship</th>\n",
       "    </tr>\n",
       "    <tr>\n",
       "      <th>Responder ID</th>\n",
       "      <th></th>\n",
       "      <th></th>\n",
       "      <th></th>\n",
       "      <th></th>\n",
       "      <th></th>\n",
       "      <th></th>\n",
       "      <th></th>\n",
       "      <th></th>\n",
       "      <th></th>\n",
       "      <th></th>\n",
       "      <th></th>\n",
       "      <th></th>\n",
       "      <th></th>\n",
       "      <th></th>\n",
       "      <th></th>\n",
       "    </tr>\n",
       "  </thead>\n",
       "  <tbody>\n",
       "    <tr>\n",
       "      <th>4</th>\n",
       "      <td>201935-201945</td>\n",
       "      <td>B</td>\n",
       "      <td>Accounting</td>\n",
       "      <td>5COP</td>\n",
       "      <td>SR</td>\n",
       "      <td>Domestic</td>\n",
       "      <td>Third</td>\n",
       "      <td>Y</td>\n",
       "      <td>More real world activities during the core maj...</td>\n",
       "      <td>Some classroom activities helped. Having an MI...</td>\n",
       "      <td>2019</td>\n",
       "      <td>NaN</td>\n",
       "      <td>NaN</td>\n",
       "      <td>NaN</td>\n",
       "      <td>NaN</td>\n",
       "    </tr>\n",
       "    <tr>\n",
       "      <th>6</th>\n",
       "      <td>201915-201925</td>\n",
       "      <td>B</td>\n",
       "      <td>Accounting</td>\n",
       "      <td>5COP</td>\n",
       "      <td>JR</td>\n",
       "      <td>Domestic</td>\n",
       "      <td>First</td>\n",
       "      <td>Y</td>\n",
       "      <td>More excel training. i think an entire class j...</td>\n",
       "      <td>MIS 200 excel portion helped me use what i did...</td>\n",
       "      <td>2019</td>\n",
       "      <td>NaN</td>\n",
       "      <td>NaN</td>\n",
       "      <td>NaN</td>\n",
       "      <td>NaN</td>\n",
       "    </tr>\n",
       "  </tbody>\n",
       "</table>\n",
       "</div>"
      ],
      "text/plain": [
       "                 Work Terms College       Major  Conc Class  \\\n",
       "Responder ID                                                  \n",
       "4             201935-201945       B  Accounting  5COP    SR   \n",
       "6             201915-201925       B  Accounting  5COP    JR   \n",
       "\n",
       "             Citizenship Status Coop # Prepared?  \\\n",
       "Responder ID                                       \n",
       "4                      Domestic  Third         Y   \n",
       "6                      Domestic  First         Y   \n",
       "\n",
       "             Do you have any suggestions on how to improve your classroom activities to prepare you for your    career?  \\\n",
       "Responder ID                                                                                                              \n",
       "4             More real world activities during the core maj...                                                           \n",
       "6             More excel training. i think an entire class j...                                                           \n",
       "\n",
       "             How did your classroom activities prepare you for co-op? If they didn’t, how were you prepared for co-op?  \\\n",
       "Responder ID                                                                                                             \n",
       "4             Some classroom activities helped. Having an MI...                                                          \n",
       "6             MIS 200 excel portion helped me use what i did...                                                          \n",
       "\n",
       "              year Terms Coll Class BOT Citizenship  \n",
       "Responder ID                                         \n",
       "4             2019   NaN  NaN       NaN         NaN  \n",
       "6             2019   NaN  NaN       NaN         NaN  "
      ]
     },
     "execution_count": 17,
     "metadata": {},
     "output_type": "execute_result"
    }
   ],
   "source": [
    "df = df.rename(columns={\"Did your classroom activities prepare you for co-op?\": \"Prepared?\"})\n",
    "df.head(2)"
   ]
  },
  {
   "cell_type": "code",
   "execution_count": 25,
   "id": "63f14d89",
   "metadata": {},
   "outputs": [
    {
     "name": "stdout",
     "output_type": "stream",
     "text": [
      "Data exported to 'prepared_counts_with_details.xlsx' successfully.\n"
     ]
    }
   ],
   "source": [
    "prepared_counts_by_year_major = df.groupby(['year', 'Major'])['Prepared?'].value_counts().unstack(fill_value=0)\n",
    "\n",
    "\n",
    "prepared_counts_by_year_major = prepared_counts_by_year_major.reset_index()\n",
    "\n",
    "\n",
    "output_file_path = 'prepared_counts_with_details.xlsx'\n",
    "\n",
    "\n",
    "merged_data = pd.merge(df[['year', 'Major']], prepared_counts_by_year_major, on=['year', 'Major'], how='right')\n",
    "merged_data.to_excel(output_file_path, index=False)\n",
    "\n",
    "print(f\"Data exported to '{output_file_path}' successfully.\")"
   ]
  },
  {
   "cell_type": "code",
   "execution_count": null,
   "id": "dfec1380",
   "metadata": {},
   "outputs": [],
   "source": []
  }
 ],
 "metadata": {
  "kernelspec": {
   "display_name": "Python 3 (ipykernel)",
   "language": "python",
   "name": "python3"
  },
  "language_info": {
   "codemirror_mode": {
    "name": "ipython",
    "version": 3
   },
   "file_extension": ".py",
   "mimetype": "text/x-python",
   "name": "python",
   "nbconvert_exporter": "python",
   "pygments_lexer": "ipython3",
   "version": "3.11.5"
  }
 },
 "nbformat": 4,
 "nbformat_minor": 5
}
